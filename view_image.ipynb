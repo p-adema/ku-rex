{
 "cells": [
  {
   "cell_type": "code",
   "id": "79627ddceeab3a2f",
   "metadata": {},
   "source": [
    "import glob\n",
    "\n",
    "import matplotlib.pyplot as plt\n",
    "import numpy as np\n",
    "import plotly.express as px\n",
    "import cv2"
   ],
   "outputs": [],
   "execution_count": null
  },
  {
   "cell_type": "code",
   "id": "b7af109ae3906a6b",
   "metadata": {},
   "source": [
    "images = {\n",
    "    int(path[17:-4]): np.load(path).reshape((720, 1280, 3))\n",
    "    for path in glob.glob(\"data/photo_focal_*.npy\")\n",
    "}\n",
    "print(len(images))\n",
    "print(images.keys())"
   ],
   "outputs": [],
   "execution_count": null
  },
  {
   "cell_type": "code",
   "id": "initial_id",
   "metadata": {
    "collapsed": true
   },
   "source": [
    "# canny_images = [\n",
    "#     cv2.Canny(cv2.blur(img, (3, 3)), 10, 70, apertureSize=3) for img in images.values()\n",
    "# ]\n",
    "px.imshow(np.array(images), animation_frame=0, width=5_00).show()"
   ],
   "outputs": [],
   "execution_count": null
  },
  {
   "cell_type": "code",
   "id": "68b49b18c9227f9",
   "metadata": {},
   "source": [
    "arucoDict = cv2.aruco.getPredefinedDictionary(cv2.aruco.DICT_6X6_250)\n",
    "arucoParams = cv2.aruco.DetectorParameters()\n",
    "(corners, ids, rejected) = cv2.aruco.detectMarkers(\n",
    "    images[4600][::1, ::1], arucoDict, parameters=arucoParams\n",
    ")\n",
    "px.imshow(cv2.aruco.drawDetectedMarkers(images[4600][::1, ::1], corners, ids)).show()"
   ],
   "outputs": [],
   "execution_count": null
  },
  {
   "cell_type": "code",
   "id": "c500854ecdad3927",
   "metadata": {},
   "source": [
    "# 14.3, 14.4 cm shape\n",
    "marker_size_mm = 144\n",
    "\n",
    "\n",
    "def guess_focal(img: np.array, dist_mm: int, size_mm: int = marker_size_mm):\n",
    "    check = cv2.aruco.detectMarkers(img, arucoDict, parameters=arucoParams)[0]\n",
    "    if not check:\n",
    "        print(f\"Warning: distance {dist_mm} can't be identified\")\n",
    "        return None\n",
    "    cs = check[0][0]\n",
    "    pixel_size = np.mean(\n",
    "        [\n",
    "            np.sqrt(np.square(cs[0] - cs[3]).sum()),\n",
    "            np.sqrt(np.square(cs[1] - cs[2]).sum()),\n",
    "        ]\n",
    "    )\n",
    "    return pixel_size * dist_mm / size_mm\n",
    "\n",
    "\n",
    "guess_focal(images[4700], dist_mm=4700)"
   ],
   "outputs": [],
   "execution_count": null
  },
  {
   "cell_type": "code",
   "id": "3a9575a795634abc",
   "metadata": {},
   "source": [
    "focals = []\n",
    "for dist, im in images.items():\n",
    "    f = guess_focal(im, dist)\n",
    "    if f is None:\n",
    "        continue\n",
    "    focals.append(f)\n",
    "    print(f\"{dist: >7} & {focals[-1]: >10.2f} \\\\\\\\\")\n",
    "avg_focal = np.mean(focals)\n",
    "print(f\"\\nAverage: {avg_focal}\")"
   ],
   "outputs": [],
   "execution_count": null
  },
  {
   "cell_type": "code",
   "id": "bc8a6118f990510a",
   "metadata": {},
   "source": [
    "print(focals)\n",
    "np.std(focals)"
   ],
   "outputs": [],
   "execution_count": null
  },
  {
   "cell_type": "code",
   "id": "783c3de5544d9e6f",
   "metadata": {},
   "source": [
    "test_cam_mat = np.array(\n",
    "    [\n",
    "        [avg_focal, 0, 0],\n",
    "        [0, avg_focal, 0],\n",
    "        [0, 0, 1],\n",
    "    ]\n",
    ")"
   ],
   "outputs": [],
   "execution_count": null
  },
  {
   "cell_type": "code",
   "id": "757a72e9ebb95b85",
   "metadata": {},
   "source": [
    "images[500]"
   ],
   "outputs": [],
   "execution_count": null
  },
  {
   "cell_type": "code",
   "id": "3539280280039594",
   "metadata": {},
   "source": [
    "_object_points = np.array(\n",
    "    [\n",
    "        [-marker_size_mm / 2, marker_size_mm / 2, 0],\n",
    "        [marker_size_mm / 2, marker_size_mm / 2, 0],\n",
    "        [marker_size_mm / 2, -marker_size_mm / 2, 0],\n",
    "        [-marker_size_mm / 2, -marker_size_mm / 2, 0],\n",
    "    ]\n",
    ")\n",
    "\n",
    "\n",
    "def estimate_pose(cn, cam_internal=test_cam_mat, obj_points=_object_points):\n",
    "    ret, r_vec, t_vec = cv2.solvePnP(\n",
    "        obj_points,\n",
    "        imagePoints=cn,\n",
    "        cameraMatrix=cam_internal,\n",
    "        distCoeffs=np.zeros((4,)),\n",
    "        flags=cv2.SOLVEPNP_IPPE_SQUARE,\n",
    "    )\n",
    "    assert ret, \"Failed to solve PnP for pose estimation!\"\n",
    "    r_mat = np.empty((3, 3))\n",
    "    cv2.Rodrigues(r_vec, dst=r_mat)\n",
    "    return r_mat, t_vec\n",
    "\n",
    "\n",
    "estimate_pose(corners[0][0])"
   ],
   "outputs": [],
   "execution_count": null
  },
  {
   "cell_type": "code",
   "id": "8a4c661a6c540987",
   "metadata": {},
   "source": [
    "cam_test = np.array([np.load(f\"data/cam_rotate_{nth}.npy\") for nth in range(20)])\n",
    "len(cam_test)"
   ],
   "outputs": [],
   "execution_count": null
  },
  {
   "cell_type": "code",
   "id": "fb68ee73c8b037d3",
   "metadata": {},
   "source": [
    "(list(images.values()))[0].shape"
   ],
   "outputs": [],
   "execution_count": null
  },
  {
   "cell_type": "code",
   "id": "ec2a284d286ff802",
   "metadata": {},
   "source": [
    "px.imshow(np.array(list(images.values())), animation_frame=0).show()"
   ],
   "outputs": [],
   "execution_count": null
  }
 ],
 "metadata": {
  "kernelspec": {
   "display_name": "Python 3",
   "language": "python",
   "name": "python3"
  },
  "language_info": {
   "codemirror_mode": {
    "name": "ipython",
    "version": 2
   },
   "file_extension": ".py",
   "mimetype": "text/x-python",
   "name": "python",
   "nbconvert_exporter": "python",
   "pygments_lexer": "ipython2",
   "version": "2.7.6"
  }
 },
 "nbformat": 4,
 "nbformat_minor": 5
}
