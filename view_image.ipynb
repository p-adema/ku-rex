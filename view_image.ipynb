{
 "cells": [
  {
   "cell_type": "code",
   "id": "79627ddceeab3a2f",
   "metadata": {
    "ExecuteTime": {
     "end_time": "2024-09-18T13:08:26.656444Z",
     "start_time": "2024-09-18T13:08:26.650249Z"
    }
   },
   "source": [
    "import glob\n",
    "\n",
    "import matplotlib.pyplot as plt\n",
    "import numpy as np\n",
    "import plotly.express as px\n",
    "import cv2"
   ],
   "outputs": [],
   "execution_count": 5
  },
  {
   "cell_type": "code",
   "id": "b7af109ae3906a6b",
   "metadata": {
    "ExecuteTime": {
     "end_time": "2024-09-18T13:14:31.743234Z",
     "start_time": "2024-09-18T13:14:31.680140Z"
    }
   },
   "source": [
    "images = {\n",
    "    int(path[17:-4]): np.load(path).reshape((720, 1280, 3)) for path in glob.glob(\"data/photo_focal_*.npy\")\n",
    "}\n",
    "print(len(images))\n",
    "print(images.keys())"
   ],
   "outputs": [
    {
     "name": "stdout",
     "output_type": "stream",
     "text": [
      "17\n",
      "dict_keys([700, 4000, 500, 4600, 2500, 2000, 1900, 6100, 2600, 4700, 5200, 1500, 3100, 999, 2690, 3400, 1000])\n"
     ]
    }
   ],
   "execution_count": 32
  },
  {
   "cell_type": "code",
   "id": "initial_id",
   "metadata": {
    "collapsed": true,
    "ExecuteTime": {
     "end_time": "2024-09-16T13:20:59.731668Z",
     "start_time": "2024-09-16T13:20:59.699311Z"
    }
   },
   "source": [
    "canny_images = [\n",
    "    cv2.Canny(cv2.blur(img, (3, 3)), 10, 70, apertureSize=3) for img in images.values()\n",
    "]\n",
    "# px.imshow(np.array(canny_images), animation_frame=0, width=5_00).show()"
   ],
   "outputs": [],
   "execution_count": 3
  },
  {
   "cell_type": "code",
   "id": "68b49b18c9227f9",
   "metadata": {
    "ExecuteTime": {
     "end_time": "2024-09-18T13:09:38.491061Z",
     "start_time": "2024-09-18T13:09:37.323010Z"
    }
   },
   "source": [
    "arucoDict = cv2.aruco.getPredefinedDictionary(cv2.aruco.DICT_6X6_250)\n",
    "arucoParams = cv2.aruco.DetectorParameters()\n",
    "(corners, ids, rejected) = cv2.aruco.detectMarkers(\n",
    "    images[4600], arucoDict, parameters=arucoParams\n",
    ")\n",
    "# px.imshow(cv2.aruco.drawDetectedMarkers(images[0], corners, ids))"
   ],
   "outputs": [],
   "execution_count": 10
  },
  {
   "cell_type": "code",
   "id": "c500854ecdad3927",
   "metadata": {
    "ExecuteTime": {
     "end_time": "2024-09-18T13:16:04.450769Z",
     "start_time": "2024-09-18T13:16:04.436800Z"
    }
   },
   "source": [
    "# 14.3, 14.4 cm shape\n",
    "marker_size_mm = 144\n",
    "\n",
    "\n",
    "def guess_focal(img: np.array, dist_mm: int, size_mm: int = marker_size_mm):\n",
    "    check = cv2.aruco.detectMarkers(img, arucoDict, parameters=arucoParams)[0]\n",
    "    if not check:\n",
    "        print(f\"Warning: distance {dist_mm} can't be identified\")\n",
    "        return None\n",
    "    cs = check[0][0]\n",
    "    pixel_size = np.mean(\n",
    "        [\n",
    "            np.sqrt(np.square(cs[0] - cs[3]).sum()),\n",
    "            np.sqrt(np.square(cs[1] - cs[2]).sum()),\n",
    "        ]\n",
    "    )\n",
    "    return pixel_size * dist_mm / size_mm\n",
    "\n",
    "\n",
    "guess_focal(images[4700], dist_mm=4700)"
   ],
   "outputs": [
    {
     "data": {
      "text/plain": [
       "1697.382214334276"
      ]
     },
     "execution_count": 38,
     "metadata": {},
     "output_type": "execute_result"
    }
   ],
   "execution_count": 38
  },
  {
   "cell_type": "code",
   "id": "3a9575a795634abc",
   "metadata": {
    "ExecuteTime": {
     "end_time": "2024-09-18T13:52:16.145433Z",
     "start_time": "2024-09-18T13:52:15.976300Z"
    }
   },
   "source": [
    "focals = []\n",
    "for dist, im in images.items():\n",
    "    f = guess_focal(im, dist)\n",
    "    if f is None:\n",
    "        continue\n",
    "    focals.append(f)\n",
    "    print(f\"{dist: >7} & {focals[-1]: >10.2f} \\\\\\\\\")\n",
    "avg_focal = np.mean(focals)\n",
    "print(f\"\\nAverage: {avg_focal}\")"
   ],
   "outputs": [
    {
     "name": "stdout",
     "output_type": "stream",
     "text": [
      "Warning: distance 700 can't be identified\n",
      "   4000 &    1736.67 \\\\\n",
      "Warning: distance 500 can't be identified\n",
      "   4600 &    1709.78 \\\\\n",
      "   2500 &    1727.65 \\\\\n",
      "   2000 &    1736.81 \\\\\n",
      "   1900 &    1729.10 \\\\\n",
      "   6100 &    1694.97 \\\\\n",
      "   2600 &    1715.37 \\\\\n",
      "   4700 &    1697.38 \\\\\n",
      "   5200 &    1733.71 \\\\\n",
      "   1500 &    1761.04 \\\\\n",
      "   3100 &    1701.58 \\\\\n",
      "    999 &    1741.43 \\\\\n",
      "   2690 &    1728.20 \\\\\n",
      "   3400 &    1723.77 \\\\\n",
      "   1000 &    1781.36 \\\\\n",
      "\n",
      "Average: 1727.9219916873508\n"
     ]
    }
   ],
   "execution_count": 42
  },
  {
   "metadata": {
    "ExecuteTime": {
     "end_time": "2024-09-18T13:20:16.729927Z",
     "start_time": "2024-09-18T13:20:16.721329Z"
    }
   },
   "cell_type": "code",
   "source": [
    "print(focals)\n",
    "np.std(focals)"
   ],
   "id": "bc8a6118f990510a",
   "outputs": [
    {
     "name": "stdout",
     "output_type": "stream",
     "text": [
      "[1736.6692225138347, 1709.7781817118328, 1727.6480462816025, 1736.8053860134548, 1729.1015836927627, 1694.9738290574815, 1715.3728273179795, 1697.382214334276, 1733.7093989054363, 1761.041800181071, 1701.584317949083, 1741.429578781128, 1728.204649289449, 1723.7728754679363, 1781.355963812934]\n"
     ]
    },
    {
     "data": {
      "text/plain": [
       "22.42151082535732"
      ]
     },
     "execution_count": 41,
     "metadata": {},
     "output_type": "execute_result"
    }
   ],
   "execution_count": 41
  },
  {
   "cell_type": "code",
   "id": "783c3de5544d9e6f",
   "metadata": {
    "ExecuteTime": {
     "end_time": "2024-09-16T13:20:59.943335Z",
     "start_time": "2024-09-16T13:20:59.941181Z"
    }
   },
   "source": [
    "test_cam_mat = np.array(\n",
    "    [\n",
    "        [avg_focal, 0, 0],\n",
    "        [0, avg_focal, 0],\n",
    "        [0, 0, 1],\n",
    "    ]\n",
    ")"
   ],
   "outputs": [],
   "execution_count": 9
  },
  {
   "metadata": {
    "ExecuteTime": {
     "end_time": "2024-09-16T13:20:59.951914Z",
     "start_time": "2024-09-16T13:20:59.949349Z"
    }
   },
   "cell_type": "code",
   "source": "images[500]",
   "id": "757a72e9ebb95b85",
   "outputs": [
    {
     "data": {
      "text/plain": [
       "array([[[ 77,  76,  92],\n",
       "        [ 75,  74,  90],\n",
       "        [ 79,  76,  92],\n",
       "        ...,\n",
       "        [140, 122, 129],\n",
       "        [145, 127, 134],\n",
       "        [160, 142, 149]],\n",
       "\n",
       "       [[ 79,  78,  94],\n",
       "        [ 78,  77,  93],\n",
       "        [ 77,  74,  90],\n",
       "        ...,\n",
       "        [141, 123, 130],\n",
       "        [157, 139, 146],\n",
       "        [171, 153, 160]],\n",
       "\n",
       "       [[ 73,  74,  88],\n",
       "        [ 72,  73,  87],\n",
       "        [ 72,  71,  87],\n",
       "        ...,\n",
       "        [146, 126, 133],\n",
       "        [163, 143, 150],\n",
       "        [173, 153, 160]],\n",
       "\n",
       "       ...,\n",
       "\n",
       "       [[ 99,  81,  90],\n",
       "        [103,  85,  94],\n",
       "        [102,  83,  96],\n",
       "        ...,\n",
       "        [ 47,  43,  59],\n",
       "        [ 47,  44,  58],\n",
       "        [ 47,  44,  58]],\n",
       "\n",
       "       [[100,  80,  89],\n",
       "        [104,  84,  93],\n",
       "        [104,  83,  95],\n",
       "        ...,\n",
       "        [ 45,  41,  57],\n",
       "        [ 46,  42,  56],\n",
       "        [ 46,  42,  56]],\n",
       "\n",
       "       [[100,  80,  89],\n",
       "        [100,  80,  89],\n",
       "        [101,  80,  92],\n",
       "        ...,\n",
       "        [ 46,  42,  58],\n",
       "        [ 46,  42,  56],\n",
       "        [ 46,  42,  56]]], dtype=uint8)"
      ]
     },
     "execution_count": 10,
     "metadata": {},
     "output_type": "execute_result"
    }
   ],
   "execution_count": 10
  },
  {
   "cell_type": "code",
   "id": "3539280280039594",
   "metadata": {
    "ExecuteTime": {
     "end_time": "2024-09-16T13:20:59.962715Z",
     "start_time": "2024-09-16T13:20:59.958704Z"
    }
   },
   "source": [
    "_object_points = np.array(\n",
    "    [\n",
    "        [-marker_size_mm / 2, marker_size_mm / 2, 0],\n",
    "        [marker_size_mm / 2, marker_size_mm / 2, 0],\n",
    "        [marker_size_mm / 2, -marker_size_mm / 2, 0],\n",
    "        [-marker_size_mm / 2, -marker_size_mm / 2, 0],\n",
    "    ]\n",
    ")\n",
    "\n",
    "\n",
    "def estimate_pose(cn, cam_internal=test_cam_mat, obj_points=_object_points):\n",
    "    ret, r_vec, t_vec = cv2.solvePnP(\n",
    "        obj_points,\n",
    "        imagePoints=cn,\n",
    "        cameraMatrix=cam_internal,\n",
    "        distCoeffs=np.zeros((4,)),\n",
    "        flags=cv2.SOLVEPNP_IPPE_SQUARE,\n",
    "    )\n",
    "    assert ret, \"Failed to solve PnP for pose estimation!\"\n",
    "    r_mat = np.empty((3, 3))\n",
    "    cv2.Rodrigues(r_vec, dst=r_mat)\n",
    "    return r_mat, t_vec\n",
    "\n",
    "\n",
    "estimate_pose(corners[0][0])"
   ],
   "outputs": [
    {
     "data": {
      "text/plain": [
       "(array([[ 0.99987173,  0.01598344, -0.00102674],\n",
       "        [ 0.01598207, -0.99987139, -0.00133023],\n",
       "        [-0.00104787,  0.00131365, -0.99999859]]),\n",
       " array([[2344.26555417],\n",
       "        [1932.78990169],\n",
       "        [5054.89266862]]))"
      ]
     },
     "execution_count": 11,
     "metadata": {},
     "output_type": "execute_result"
    }
   ],
   "execution_count": 11
  },
  {
   "metadata": {
    "ExecuteTime": {
     "end_time": "2024-09-18T08:41:36.652590Z",
     "start_time": "2024-09-18T08:41:36.597615Z"
    }
   },
   "cell_type": "code",
   "source": [
    "cam_test = np.array([\n",
    "    np.load(f\"data/cam_rotate_{nth}.npy\") for nth in range(20)\n",
    "])\n",
    "len(cam_test)"
   ],
   "id": "8a4c661a6c540987",
   "outputs": [
    {
     "data": {
      "text/plain": [
       "20"
      ]
     },
     "execution_count": 2,
     "metadata": {},
     "output_type": "execute_result"
    }
   ],
   "execution_count": 2
  },
  {
   "metadata": {
    "ExecuteTime": {
     "end_time": "2024-09-18T13:13:59.870176Z",
     "start_time": "2024-09-18T13:13:59.864575Z"
    }
   },
   "cell_type": "code",
   "source": "(list(images.values()))[0].shape",
   "id": "fb68ee73c8b037d3",
   "outputs": [
    {
     "data": {
      "text/plain": [
       "(1280, 720, 3)"
      ]
     },
     "execution_count": 30,
     "metadata": {},
     "output_type": "execute_result"
    }
   ],
   "execution_count": 30
  },
  {
   "metadata": {},
   "cell_type": "code",
   "source": "px.imshow(np.array(list(images.values())), animation_frame=0).show()",
   "id": "ec2a284d286ff802",
   "outputs": [],
   "execution_count": null
  }
 ],
 "metadata": {
  "kernelspec": {
   "display_name": "Python 3",
   "language": "python",
   "name": "python3"
  },
  "language_info": {
   "codemirror_mode": {
    "name": "ipython",
    "version": 2
   },
   "file_extension": ".py",
   "mimetype": "text/x-python",
   "name": "python",
   "nbconvert_exporter": "python",
   "pygments_lexer": "ipython2",
   "version": "2.7.6"
  }
 },
 "nbformat": 4,
 "nbformat_minor": 5
}
