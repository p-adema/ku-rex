{
 "cells": [
  {
   "cell_type": "code",
   "execution_count": 8,
   "id": "79627ddceeab3a2f",
   "metadata": {
    "ExecuteTime": {
     "end_time": "2024-09-16T11:49:35.585109Z",
     "start_time": "2024-09-16T11:49:35.579561Z"
    }
   },
   "outputs": [],
   "source": [
    "import matplotlib.pyplot as plt\n",
    "import numpy as np\n",
    "import plotly.express as px\n",
    "import cv2"
   ]
  },
  {
   "cell_type": "code",
   "execution_count": 74,
   "id": "b7af109ae3906a6b",
   "metadata": {
    "ExecuteTime": {
     "end_time": "2024-09-16T12:42:31.626077Z",
     "start_time": "2024-09-16T12:42:31.620188Z"
    }
   },
   "outputs": [],
   "source": [
    "images = {\n",
    "    size * 10: np.load(f\"data/photo_approx_{size}.npy\") for size in [50, 100, 200]\n",
    "}"
   ]
  },
  {
   "cell_type": "code",
   "execution_count": 10,
   "id": "initial_id",
   "metadata": {
    "ExecuteTime": {
     "end_time": "2024-09-16T11:49:36.644723Z",
     "start_time": "2024-09-16T11:49:36.641684Z"
    },
    "collapsed": true
   },
   "outputs": [],
   "source": [
    "canny_images = [\n",
    "    cv2.Canny(cv2.blur(img, (3, 3)), 10, 70, apertureSize=3) for img in images.values()\n",
    "]\n",
    "# px.imshow(np.array(canny_images), animation_frame=0, width=5_00).show()"
   ]
  },
  {
   "cell_type": "code",
   "execution_count": 11,
   "id": "68b49b18c9227f9",
   "metadata": {
    "ExecuteTime": {
     "end_time": "2024-09-16T11:49:36.988681Z",
     "start_time": "2024-09-16T11:49:36.975227Z"
    }
   },
   "outputs": [],
   "source": [
    "arucoDict = cv2.aruco.getPredefinedDictionary(cv2.aruco.DICT_6X6_250)\n",
    "arucoParams = cv2.aruco.DetectorParameters()\n",
    "(corners, ids, rejected) = cv2.aruco.detectMarkers(\n",
    "    images[0], arucoDict, parameters=arucoParams\n",
    ")\n",
    "# px.imshow(cv2.aruco.drawDetectedMarkers(images[0], corners, ids))"
   ]
  },
  {
   "cell_type": "code",
   "execution_count": 75,
   "id": "c500854ecdad3927",
   "metadata": {
    "ExecuteTime": {
     "end_time": "2024-09-16T12:43:58.435677Z",
     "start_time": "2024-09-16T12:43:58.402928Z"
    }
   },
   "outputs": [
    {
     "data": {
      "text/plain": [
       "1175.4708819919163"
      ]
     },
     "execution_count": 75,
     "metadata": {},
     "output_type": "execute_result"
    }
   ],
   "source": [
    "# 14.3, 14.4 cm shape\n",
    "marker_size_mm = 144\n",
    "\n",
    "\n",
    "def guess_focal(img: np.array, dist_mm: int, size_mm: int = marker_size_mm):\n",
    "    cs = cv2.aruco.detectMarkers(img, arucoDict, parameters=arucoParams)[0][0][0]\n",
    "    pixel_size = np.mean(\n",
    "        [\n",
    "            np.sqrt(np.square(cs[0] - cs[3]).sum()),\n",
    "            np.sqrt(np.square(cs[1] - cs[2]).sum()),\n",
    "        ]\n",
    "    )\n",
    "    return pixel_size * dist_mm / size_mm\n",
    "\n",
    "\n",
    "guess_focal(images[500], dist_mm=500)"
   ]
  },
  {
   "cell_type": "code",
   "execution_count": 79,
   "id": "3a9575a795634abc",
   "metadata": {
    "ExecuteTime": {
     "end_time": "2024-09-16T12:46:34.350292Z",
     "start_time": "2024-09-16T12:46:34.322631Z"
    }
   },
   "outputs": [
    {
     "name": "stdout",
     "output_type": "stream",
     "text": [
      "    500 |    1175.47\n",
      "   1000 |    1121.55\n",
      "   2000 |    1125.00\n",
      "\n",
      "Average: 1140.67339014124\n"
     ]
    }
   ],
   "source": [
    "focals = []\n",
    "for dist, im in images.items():\n",
    "    focals.append(guess_focal(im, dist))\n",
    "    print(f\"{dist: >7} | {focals[-1]: >10.2f}\")\n",
    "avg_focal = np.mean(focals)\n",
    "print(f\"\\nAverage: {avg_focal}\")"
   ]
  },
  {
   "cell_type": "code",
   "execution_count": 80,
   "id": "783c3de5544d9e6f",
   "metadata": {
    "ExecuteTime": {
     "end_time": "2024-09-16T12:46:34.898918Z",
     "start_time": "2024-09-16T12:46:34.894382Z"
    }
   },
   "outputs": [],
   "source": [
    "test_cam_mat = np.array(\n",
    "    [\n",
    "        [avg_focal, 0, 0],\n",
    "        [0, avg_focal, 0],\n",
    "        [0, 0, 1],\n",
    "    ]\n",
    ")"
   ]
  },
  {
   "cell_type": "code",
   "execution_count": 81,
   "id": "3539280280039594",
   "metadata": {
    "ExecuteTime": {
     "end_time": "2024-09-16T12:46:36.467797Z",
     "start_time": "2024-09-16T12:46:36.447081Z"
    }
   },
   "outputs": [
    {
     "data": {
      "text/plain": [
       "(array([[ 9.99608497e-01,  5.82761195e-04,  2.79734391e-02],\n",
       "        [-2.95465208e-04, -9.99507464e-01,  3.13806141e-02],\n",
       "        [ 2.79779485e-02, -3.13765937e-02, -9.99115981e-01]]),\n",
       " array([[140.61564316],\n",
       "        [214.42427259],\n",
       "        [478.14046633]]))"
      ]
     },
     "execution_count": 81,
     "metadata": {},
     "output_type": "execute_result"
    }
   ],
   "source": [
    "_object_points = np.array(\n",
    "    [\n",
    "        [-marker_size_mm / 2, marker_size_mm / 2, 0],\n",
    "        [marker_size_mm / 2, marker_size_mm / 2, 0],\n",
    "        [marker_size_mm / 2, -marker_size_mm / 2, 0],\n",
    "        [-marker_size_mm / 2, -marker_size_mm / 2, 0],\n",
    "    ]\n",
    ")\n",
    "\n",
    "\n",
    "def estimate_pose(cn, cam_internal=test_cam_mat, obj_points=_object_points):\n",
    "    ret, r_vec, t_vec = cv2.solvePnP(\n",
    "        obj_points,\n",
    "        imagePoints=cn,\n",
    "        cameraMatrix=cam_internal,\n",
    "        distCoeffs=np.zeros((4,)),\n",
    "        flags=cv2.SOLVEPNP_IPPE_SQUARE,\n",
    "    )\n",
    "    assert ret, \"Failed to solve PnP for pose estimation!\"\n",
    "    r_mat = np.empty((3, 3))\n",
    "    cv2.Rodrigues(r_vec, dst=r_mat)\n",
    "    return r_mat, t_vec\n",
    "\n",
    "\n",
    "estimate_pose(corners[0][0])"
   ]
  }
 ],
 "metadata": {
  "kernelspec": {
   "display_name": "Python 3",
   "language": "python",
   "name": "python3"
  },
  "language_info": {
   "codemirror_mode": {
    "name": "ipython",
    "version": 2
   },
   "file_extension": ".py",
   "mimetype": "text/x-python",
   "name": "python",
   "nbconvert_exporter": "python",
   "pygments_lexer": "ipython2",
   "version": "2.7.6"
  }
 },
 "nbformat": 4,
 "nbformat_minor": 5
}
