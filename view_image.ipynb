{
 "cells": [
  {
   "cell_type": "code",
   "id": "79627ddceeab3a2f",
   "metadata": {
    "ExecuteTime": {
     "end_time": "2024-09-16T13:20:59.561391Z",
     "start_time": "2024-09-16T13:20:58.853394Z"
    }
   },
   "source": [
    "import matplotlib.pyplot as plt\n",
    "import numpy as np\n",
    "import plotly.express as px\n",
    "import cv2"
   ],
   "outputs": [],
   "execution_count": 1
  },
  {
   "cell_type": "code",
   "id": "b7af109ae3906a6b",
   "metadata": {
    "ExecuteTime": {
     "end_time": "2024-09-16T13:20:59.587187Z",
     "start_time": "2024-09-16T13:20:59.566589Z"
    }
   },
   "source": [
    "images = {\n",
    "    size * 10: np.load(f\"data/photo_calibrate_{size}.npy\") for size in [50, 100, 150, 200, 250, 300, 350, 400, 500, 600]\n",
    "}\n",
    "len(images)"
   ],
   "outputs": [
    {
     "data": {
      "text/plain": [
       "10"
      ]
     },
     "execution_count": 2,
     "metadata": {},
     "output_type": "execute_result"
    }
   ],
   "execution_count": 2
  },
  {
   "cell_type": "code",
   "id": "initial_id",
   "metadata": {
    "collapsed": true,
    "ExecuteTime": {
     "end_time": "2024-09-16T13:20:59.731668Z",
     "start_time": "2024-09-16T13:20:59.699311Z"
    }
   },
   "source": [
    "canny_images = [\n",
    "    cv2.Canny(cv2.blur(img, (3, 3)), 10, 70, apertureSize=3) for img in images.values()\n",
    "]\n",
    "# px.imshow(np.array(canny_images), animation_frame=0, width=5_00).show()"
   ],
   "outputs": [],
   "execution_count": 3
  },
  {
   "cell_type": "code",
   "id": "68b49b18c9227f9",
   "metadata": {
    "ExecuteTime": {
     "end_time": "2024-09-16T13:20:59.742950Z",
     "start_time": "2024-09-16T13:20:59.737201Z"
    }
   },
   "source": [
    "arucoDict = cv2.aruco.getPredefinedDictionary(cv2.aruco.DICT_6X6_250)\n",
    "arucoParams = cv2.aruco.DetectorParameters()\n",
    "(corners, ids, rejected) = cv2.aruco.detectMarkers(\n",
    "    images[5_000], arucoDict, parameters=arucoParams\n",
    ")\n",
    "# px.imshow(cv2.aruco.drawDetectedMarkers(images[0], corners, ids))"
   ],
   "outputs": [],
   "execution_count": 4
  },
  {
   "cell_type": "code",
   "id": "c500854ecdad3927",
   "metadata": {
    "ExecuteTime": {
     "end_time": "2024-09-16T13:20:59.756087Z",
     "start_time": "2024-09-16T13:20:59.748915Z"
    }
   },
   "source": [
    "# 14.3, 14.4 cm shape\n",
    "marker_size_mm = 144\n",
    "\n",
    "\n",
    "def guess_focal(img: np.array, dist_mm: int, size_mm: int = marker_size_mm):\n",
    "    cs = cv2.aruco.detectMarkers(img, arucoDict, parameters=arucoParams)[0][0][0]\n",
    "    pixel_size = np.mean(\n",
    "        [\n",
    "            np.sqrt(np.square(cs[0] - cs[3]).sum()),\n",
    "            np.sqrt(np.square(cs[1] - cs[2]).sum()),\n",
    "        ]\n",
    "    )\n",
    "    return pixel_size * dist_mm / size_mm\n",
    "\n",
    "\n",
    "guess_focal(images[500], dist_mm=500)"
   ],
   "outputs": [
    {
     "data": {
      "text/plain": [
       "1109.484142727322"
      ]
     },
     "execution_count": 5,
     "metadata": {},
     "output_type": "execute_result"
    }
   ],
   "execution_count": 5
  },
  {
   "cell_type": "code",
   "id": "3a9575a795634abc",
   "metadata": {
    "ExecuteTime": {
     "end_time": "2024-09-16T13:20:59.924155Z",
     "start_time": "2024-09-16T13:20:59.884782Z"
    }
   },
   "source": [
    "focals = []\n",
    "for dist, im in images.items():\n",
    "    focals.append(guess_focal(im, dist))\n",
    "    print(f\"{dist: >7} | {focals[-1]: >10.2f}\")\n",
    "avg_focal = np.mean(focals)\n",
    "print(f\"\\nAverage: {avg_focal}\")"
   ],
   "outputs": [
    {
     "name": "stdout",
     "output_type": "stream",
     "text": [
      "    500 |    1109.48\n",
      "   1000 |    1107.86\n",
      "   1500 |    1109.50\n",
      "   2000 |    1111.20\n",
      "   2500 |    1111.25\n",
      "   3000 |    1104.36\n",
      "   3500 |    1106.17\n",
      "   4000 |    1097.92\n",
      "   5000 |    1094.02\n",
      "   6000 |    1104.57\n",
      "\n",
      "Average: 1105.632015069326\n"
     ]
    }
   ],
   "execution_count": 7
  },
  {
   "metadata": {
    "ExecuteTime": {
     "end_time": "2024-09-16T13:20:59.933688Z",
     "start_time": "2024-09-16T13:20:59.930886Z"
    }
   },
   "cell_type": "code",
   "source": [
    "print(focals)\n",
    "np.std(focals)"
   ],
   "id": "bc8a6118f990510a",
   "outputs": [
    {
     "name": "stdout",
     "output_type": "stream",
     "text": [
      "[1109.484142727322, 1107.8561147054036, 1109.4975471496582, 1111.197895473904, 1111.2467447916667, 1104.363203048706, 1106.1698065863716, 1097.9162851969402, 1094.021201133728, 1104.5672098795574]\n"
     ]
    },
    {
     "data": {
      "text/plain": [
       "5.427784639649175"
      ]
     },
     "execution_count": 8,
     "metadata": {},
     "output_type": "execute_result"
    }
   ],
   "execution_count": 8
  },
  {
   "cell_type": "code",
   "id": "783c3de5544d9e6f",
   "metadata": {
    "ExecuteTime": {
     "end_time": "2024-09-16T13:20:59.943335Z",
     "start_time": "2024-09-16T13:20:59.941181Z"
    }
   },
   "source": [
    "test_cam_mat = np.array(\n",
    "    [\n",
    "        [avg_focal, 0, 0],\n",
    "        [0, avg_focal, 0],\n",
    "        [0, 0, 1],\n",
    "    ]\n",
    ")"
   ],
   "outputs": [],
   "execution_count": 9
  },
  {
   "metadata": {
    "ExecuteTime": {
     "end_time": "2024-09-16T13:20:59.951914Z",
     "start_time": "2024-09-16T13:20:59.949349Z"
    }
   },
   "cell_type": "code",
   "source": "images[500]",
   "id": "757a72e9ebb95b85",
   "outputs": [
    {
     "data": {
      "text/plain": [
       "array([[[ 77,  76,  92],\n",
       "        [ 75,  74,  90],\n",
       "        [ 79,  76,  92],\n",
       "        ...,\n",
       "        [140, 122, 129],\n",
       "        [145, 127, 134],\n",
       "        [160, 142, 149]],\n",
       "\n",
       "       [[ 79,  78,  94],\n",
       "        [ 78,  77,  93],\n",
       "        [ 77,  74,  90],\n",
       "        ...,\n",
       "        [141, 123, 130],\n",
       "        [157, 139, 146],\n",
       "        [171, 153, 160]],\n",
       "\n",
       "       [[ 73,  74,  88],\n",
       "        [ 72,  73,  87],\n",
       "        [ 72,  71,  87],\n",
       "        ...,\n",
       "        [146, 126, 133],\n",
       "        [163, 143, 150],\n",
       "        [173, 153, 160]],\n",
       "\n",
       "       ...,\n",
       "\n",
       "       [[ 99,  81,  90],\n",
       "        [103,  85,  94],\n",
       "        [102,  83,  96],\n",
       "        ...,\n",
       "        [ 47,  43,  59],\n",
       "        [ 47,  44,  58],\n",
       "        [ 47,  44,  58]],\n",
       "\n",
       "       [[100,  80,  89],\n",
       "        [104,  84,  93],\n",
       "        [104,  83,  95],\n",
       "        ...,\n",
       "        [ 45,  41,  57],\n",
       "        [ 46,  42,  56],\n",
       "        [ 46,  42,  56]],\n",
       "\n",
       "       [[100,  80,  89],\n",
       "        [100,  80,  89],\n",
       "        [101,  80,  92],\n",
       "        ...,\n",
       "        [ 46,  42,  58],\n",
       "        [ 46,  42,  56],\n",
       "        [ 46,  42,  56]]], dtype=uint8)"
      ]
     },
     "execution_count": 10,
     "metadata": {},
     "output_type": "execute_result"
    }
   ],
   "execution_count": 10
  },
  {
   "cell_type": "code",
   "id": "3539280280039594",
   "metadata": {
    "ExecuteTime": {
     "end_time": "2024-09-16T13:20:59.962715Z",
     "start_time": "2024-09-16T13:20:59.958704Z"
    }
   },
   "source": [
    "_object_points = np.array(\n",
    "    [\n",
    "        [-marker_size_mm / 2, marker_size_mm / 2, 0],\n",
    "        [marker_size_mm / 2, marker_size_mm / 2, 0],\n",
    "        [marker_size_mm / 2, -marker_size_mm / 2, 0],\n",
    "        [-marker_size_mm / 2, -marker_size_mm / 2, 0],\n",
    "    ]\n",
    ")\n",
    "\n",
    "\n",
    "def estimate_pose(cn, cam_internal=test_cam_mat, obj_points=_object_points):\n",
    "    ret, r_vec, t_vec = cv2.solvePnP(\n",
    "        obj_points,\n",
    "        imagePoints=cn,\n",
    "        cameraMatrix=cam_internal,\n",
    "        distCoeffs=np.zeros((4,)),\n",
    "        flags=cv2.SOLVEPNP_IPPE_SQUARE,\n",
    "    )\n",
    "    assert ret, \"Failed to solve PnP for pose estimation!\"\n",
    "    r_mat = np.empty((3, 3))\n",
    "    cv2.Rodrigues(r_vec, dst=r_mat)\n",
    "    return r_mat, t_vec\n",
    "\n",
    "\n",
    "estimate_pose(corners[0][0])"
   ],
   "outputs": [
    {
     "data": {
      "text/plain": [
       "(array([[ 0.99987173,  0.01598344, -0.00102674],\n",
       "        [ 0.01598207, -0.99987139, -0.00133023],\n",
       "        [-0.00104787,  0.00131365, -0.99999859]]),\n",
       " array([[2344.26555417],\n",
       "        [1932.78990169],\n",
       "        [5054.89266862]]))"
      ]
     },
     "execution_count": 11,
     "metadata": {},
     "output_type": "execute_result"
    }
   ],
   "execution_count": 11
  }
 ],
 "metadata": {
  "kernelspec": {
   "display_name": "Python 3",
   "language": "python",
   "name": "python3"
  },
  "language_info": {
   "codemirror_mode": {
    "name": "ipython",
    "version": 2
   },
   "file_extension": ".py",
   "mimetype": "text/x-python",
   "name": "python",
   "nbconvert_exporter": "python",
   "pygments_lexer": "ipython2",
   "version": "2.7.6"
  }
 },
 "nbformat": 4,
 "nbformat_minor": 5
}
