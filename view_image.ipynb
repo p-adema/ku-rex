{
 "cells": [
  {
   "cell_type": "code",
   "id": "79627ddceeab3a2f",
   "metadata": {},
   "source": [
    "import numpy as np\n",
    "import plotly.express as px\n",
    "import cv2"
   ],
   "outputs": [],
   "execution_count": null
  },
  {
   "metadata": {
    "collapsed": true
   },
   "cell_type": "code",
   "source": [
    "images = []\n",
    "for size in [50, 100, 200]:\n",
    "    img = np.load(f\"data/photo_approx_{size}.npy\")\n",
    "    edge_frame = cv2.blur(img, (3, 3))\n",
    "    canny = cv2.Canny(edge_frame, 10, 70, apertureSize=3)\n",
    "    images.append(canny)\n",
    "\n",
    "px.imshow(np.array(images), animation_frame=0)\n",
    "\n",
    "# 14.3, 14.4 cm shape\n"
   ],
   "id": "initial_id",
   "outputs": [],
   "execution_count": null
  }
 ],
 "metadata": {
  "kernelspec": {
   "display_name": "Python 3",
   "language": "python",
   "name": "python3"
  },
  "language_info": {
   "codemirror_mode": {
    "name": "ipython",
    "version": 2
   },
   "file_extension": ".py",
   "mimetype": "text/x-python",
   "name": "python",
   "nbconvert_exporter": "python",
   "pygments_lexer": "ipython2",
   "version": "2.7.6"
  }
 },
 "nbformat": 4,
 "nbformat_minor": 5
}
